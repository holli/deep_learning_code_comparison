{
 "cells": [
  {
   "cell_type": "code",
   "execution_count": 1,
   "metadata": {
    "collapsed": true
   },
   "outputs": [],
   "source": [
    "%matplotlib inline\n",
    "import matplotlib.pyplot as plt\n",
    "import numpy as np"
   ]
  },
  {
   "cell_type": "code",
   "execution_count": 2,
   "metadata": {},
   "outputs": [
    {
     "data": {
      "text/plain": [
       "'1.1.0'"
      ]
     },
     "execution_count": 2,
     "metadata": {},
     "output_type": "execute_result"
    }
   ],
   "source": [
    "import tensorflow as tf\n",
    "tf.__version__"
   ]
  },
  {
   "cell_type": "markdown",
   "metadata": {},
   "source": [
    "# Load datasets"
   ]
  },
  {
   "cell_type": "code",
   "execution_count": 3,
   "metadata": {},
   "outputs": [
    {
     "name": "stdout",
     "output_type": "stream",
     "text": [
      "Extracting ./data/tf_data/train-images-idx3-ubyte.gz\n",
      "Extracting ./data/tf_data/train-labels-idx1-ubyte.gz\n",
      "Extracting ./data/tf_data/t10k-images-idx3-ubyte.gz\n",
      "Extracting ./data/tf_data/t10k-labels-idx1-ubyte.gz\n"
     ]
    }
   ],
   "source": [
    "from tensorflow.examples.tutorials.mnist import input_data\n",
    "mnist_input_data = input_data.read_data_sets('./data/tf_data') #, one_hot=True)"
   ]
  },
  {
   "cell_type": "code",
   "execution_count": 4,
   "metadata": {},
   "outputs": [
    {
     "name": "stdout",
     "output_type": "stream",
     "text": [
      "train_len 55000, test_len 10000\n"
     ]
    }
   ],
   "source": [
    "mnist_train = mnist_input_data.train\n",
    "mnist_test = mnist_input_data.test\n",
    "print(\"train_len {}, test_len {}\".format(mnist_train.num_examples, mnist_test.num_examples))"
   ]
  },
  {
   "cell_type": "code",
   "execution_count": 5,
   "metadata": {},
   "outputs": [
    {
     "name": "stdout",
     "output_type": "stream",
     "text": [
      "Sample class: 7\n"
     ]
    },
    {
     "data": {
      "image/png": "[encoded data removed]",
      "text/plain": [
       "<matplotlib.figure.Figure at 0x7fedb3fa9940>"
      ]
     },
     "metadata": {},
     "output_type": "display_data"
    }
   ],
   "source": [
    "print(\"Sample class: {}\".format(mnist_train.labels[0]))\n",
    "sample_img = mnist_train.images[0]\n",
    "sample_img = sample_img.reshape(28,28)\n",
    "# print(\"Sample size: {}\".format(mnist_train.images[0].size()))\n",
    "plt.imshow(sample_img).set_cmap('Greys')"
   ]
  },
  {
   "cell_type": "markdown",
   "metadata": {},
   "source": [
    "# Graph with high level apis: tf.estimator and tf.layers"
   ]
  },
  {
   "cell_type": "code",
   "execution_count": 6,
   "metadata": {
    "collapsed": true
   },
   "outputs": [],
   "source": [
    "tf.reset_default_graph()"
   ]
  },
  {
   "cell_type": "code",
   "execution_count": 7,
   "metadata": {},
   "outputs": [],
   "source": [
    "def model_fn(features, labels, mode):\n",
    "    x = features['x']\n",
    "    \n",
    "    x = tf.reshape(x, [-1, 28, 28, 1])\n",
    "    \n",
    "    x = tf.layers.conv2d(inputs=x, filters=32, kernel_size=[5, 5], padding=\"same\", activation=tf.nn.relu)\n",
    "    x = tf.layers.max_pooling2d(inputs=x, pool_size=[2, 2], strides=2)\n",
    "    \n",
    "    x = tf.layers.conv2d(inputs=x, filters=64, kernel_size=[5, 5], padding=\"same\", activation=tf.nn.relu)\n",
    "    x = tf.layers.max_pooling2d(inputs=x, pool_size=[2, 2], strides=2)\n",
    "    \n",
    "    x = tf.reshape(x, [-1, 7 * 7 * 64]) # flatten 7,7,64 tensor\n",
    "    \n",
    "    x = tf.layers.dense(inputs=x, units=1024, activation=tf.nn.relu)\n",
    "    # dropout layer which is only used in training\n",
    "    x = tf.layers.dropout(inputs=x, rate=0.4, training=mode == tf.estimator.ModeKeys.TRAIN)\n",
    "\n",
    "    y_results = tf.layers.dense(inputs=x, units=10)\n",
    "\n",
    "    predictions = {\n",
    "      \"classes\": tf.argmax(input=y_results, axis=1, name='class_predictor'),\n",
    "      \"probabilities\": tf.nn.softmax(y_results, name=\"classes_softmax_prob\")\n",
    "    }\n",
    "    \n",
    "    if mode == tf.estimator.ModeKeys.PREDICT:\n",
    "        return tf.estimator.EstimatorSpec(mode=mode, predictions=predictions)\n",
    "    else:\n",
    "        onehot_labels = tf.one_hot(indices=tf.cast(labels, tf.int32), depth=10)\n",
    "        #onehot_labels = labels\n",
    "        loss_op = tf.losses.softmax_cross_entropy(onehot_labels=onehot_labels, logits=y_results)\n",
    "        \n",
    "        if mode == tf.estimator.ModeKeys.TRAIN:\n",
    "            optimizer = tf.train.AdamOptimizer(learning_rate=0.001)\n",
    "            train_op = optimizer.minimize(loss=loss_op, global_step=tf.train.get_global_step(), name='train_op')\n",
    "            return tf.estimator.EstimatorSpec(mode=mode, loss=loss_op, train_op=train_op)\n",
    "        else: # EVAL mode\n",
    "            eval_metric_ops = {\n",
    "              \"accuracy\": tf.metrics.accuracy(labels=labels, predictions=predictions[\"classes\"])\n",
    "            }\n",
    "            return tf.estimator.EstimatorSpec(mode=mode, loss=loss_op, eval_metric_ops=eval_metric_ops)\n"
   ]
  },
  {
   "cell_type": "code",
   "execution_count": 8,
   "metadata": {},
   "outputs": [
    {
     "data": {
      "text/plain": [
       "[{'classes': array([3]),\n",
       "  'probabilities': array([[ 0.10817411,  0.1061146 ,  0.09063991,  0.1085377 ,  0.10166859,\n",
       "           0.10352095,  0.09055026,  0.09612758,  0.09685247,  0.09781384]], dtype=float32)}]"
      ]
     },
     "execution_count": 8,
     "metadata": {},
     "output_type": "execute_result"
    }
   ],
   "source": [
    "# test model_fn(PREDICT) manually by running one prediction.\n",
    "tf.reset_default_graph()\n",
    "x_ph = tf.placeholder(tf.float32, [None, 784], name='x_ph')\n",
    "#y_targets_ph = tf.placeholder(tf.float32, [None, 10], name='y_targets_ph')\n",
    "y_targets_ph = tf.placeholder(tf.float32, [None], name='y_targets_ph')\n",
    "estimator = model_fn({'x': x_ph}, y_targets_ph, tf.estimator.ModeKeys.PREDICT)\n",
    "#estimator = model_fn(x_ph, y_targets_ph, tf.estimator.ModeKeys.PREDICT)\n",
    "\n",
    "sess = tf.InteractiveSession()\n",
    "tf.global_variables_initializer().run()\n",
    "\n",
    "sess.run([estimator[0]], feed_dict={x_ph: np.expand_dims(mnist_test.images[0], 0)})"
   ]
  },
  {
   "cell_type": "code",
   "execution_count": 9,
   "metadata": {},
   "outputs": [
    {
     "data": {
      "text/plain": [
       "[None]"
      ]
     },
     "execution_count": 9,
     "metadata": {},
     "output_type": "execute_result"
    }
   ],
   "source": [
    "# Test model_fn(TRAIN) manually, should return [None]\n",
    "tf.reset_default_graph()\n",
    "x_ph = tf.placeholder(tf.float32, [None, 784], name='x_ph')\n",
    "y_targets_ph = tf.placeholder(tf.float32, [None], name='y_targets_ph')\n",
    "estimator = model_fn({'x': x_ph}, y_targets_ph, tf.estimator.ModeKeys.TRAIN)\n",
    "sess = tf.InteractiveSession()\n",
    "tf.global_variables_initializer().run()\n",
    "op = tf.get_default_graph().get_operation_by_name('train_op')\n",
    "sess.run([op], feed_dict={x_ph: np.expand_dims(mnist_test.images[0], 0),\n",
    "                                    y_targets_ph: np.expand_dims(mnist_test.labels[0], 0)})"
   ]
  },
  {
   "cell_type": "markdown",
   "metadata": {},
   "source": [
    "### Using estimator to train the model"
   ]
  },
  {
   "cell_type": "code",
   "execution_count": 10,
   "metadata": {},
   "outputs": [
    {
     "name": "stdout",
     "output_type": "stream",
     "text": [
      "WARNING:tensorflow:Using temporary folder as model directory: /tmp/tmp6rbr5pnq\n",
      "INFO:tensorflow:Using default config.\n",
      "INFO:tensorflow:Using config: {}\n",
      "tensorboard --logdir /tmp/tmp6rbr5pnq\n"
     ]
    }
   ],
   "source": [
    "tf.reset_default_graph()\n",
    "\n",
    "estimator = tf.estimator.Estimator(model_fn=model_fn)\n",
    "\n",
    "# If you want to monitor more closesly you can start tensorboard with following command\n",
    "# and then start the browser as tensorboard guides you to\n",
    "print(\"tensorboard --logdir {}\".format(estimator.model_dir))"
   ]
  },
  {
   "cell_type": "code",
   "execution_count": 11,
   "metadata": {
    "collapsed": true
   },
   "outputs": [],
   "source": [
    "eval_input_fn = tf.estimator.inputs.numpy_input_fn(\n",
    "    x={\"x\": mnist_test.images}, y=np.asarray(mnist_test.labels, dtype=np.int32),\n",
    "    num_epochs=1, shuffle=False)\n",
    "def test_model_accuracy():\n",
    "    eval_results = estimator.evaluate(input_fn=eval_input_fn)\n",
    "    print(\"Test_model_accuracy: \" + str(eval_results))"
   ]
  },
  {
   "cell_type": "code",
   "execution_count": 12,
   "metadata": {},
   "outputs": [],
   "source": [
    "train_input_fn = tf.estimator.inputs.numpy_input_fn(\n",
    "    x={'x': mnist_train.images}, y=np.asarray(mnist_train.labels, dtype=np.int32),\n",
    "    batch_size=32, num_epochs=None, shuffle=True)"
   ]
  },
  {
   "cell_type": "code",
   "execution_count": 13,
   "metadata": {
    "scrolled": false
   },
   "outputs": [
    {
     "name": "stdout",
     "output_type": "stream",
     "text": [
      "Epoch: 0\n",
      "INFO:tensorflow:Create CheckpointSaverHook.\n",
      "INFO:tensorflow:Saving checkpoints for 1 into /tmp/tmp6rbr5pnq/model.ckpt.\n",
      "INFO:tensorflow:loss = 2.2898, step = 1\n",
      "INFO:tensorflow:global_step/sec: 238.387\n",
      "INFO:tensorflow:loss = 0.237525, step = 101 (0.420 sec)\n",
      "INFO:tensorflow:global_step/sec: 301.08\n",
      "INFO:tensorflow:loss = 0.284098, step = 201 (0.332 sec)\n",
      "INFO:tensorflow:global_step/sec: 305.159\n",
      "INFO:tensorflow:loss = 0.0703174, step = 301 (0.328 sec)\n",
      "INFO:tensorflow:global_step/sec: 279.361\n",
      "INFO:tensorflow:loss = 0.0426512, step = 401 (0.358 sec)\n",
      "INFO:tensorflow:global_step/sec: 307.433\n",
      "INFO:tensorflow:loss = 0.0392076, step = 501 (0.325 sec)\n",
      "INFO:tensorflow:global_step/sec: 254.823\n",
      "INFO:tensorflow:loss = 0.0296013, step = 601 (0.392 sec)\n",
      "INFO:tensorflow:global_step/sec: 310.449\n",
      "INFO:tensorflow:loss = 0.0166791, step = 701 (0.322 sec)\n",
      "INFO:tensorflow:global_step/sec: 311.865\n",
      "INFO:tensorflow:loss = 0.168788, step = 801 (0.321 sec)\n",
      "INFO:tensorflow:global_step/sec: 316.668\n",
      "INFO:tensorflow:loss = 0.0744926, step = 901 (0.316 sec)\n",
      "INFO:tensorflow:global_step/sec: 328.924\n",
      "INFO:tensorflow:loss = 0.160484, step = 1001 (0.304 sec)\n",
      "INFO:tensorflow:global_step/sec: 329.903\n",
      "INFO:tensorflow:loss = 0.0301684, step = 1101 (0.303 sec)\n",
      "INFO:tensorflow:global_step/sec: 315.496\n",
      "INFO:tensorflow:loss = 0.103366, step = 1201 (0.317 sec)\n",
      "INFO:tensorflow:global_step/sec: 313.579\n",
      "INFO:tensorflow:loss = 0.0161069, step = 1301 (0.319 sec)\n",
      "INFO:tensorflow:global_step/sec: 321.457\n",
      "INFO:tensorflow:loss = 0.0798899, step = 1401 (0.311 sec)\n",
      "INFO:tensorflow:global_step/sec: 325.193\n",
      "INFO:tensorflow:loss = 0.146272, step = 1501 (0.308 sec)\n",
      "INFO:tensorflow:global_step/sec: 324.083\n",
      "INFO:tensorflow:loss = 0.0112714, step = 1601 (0.309 sec)\n",
      "INFO:tensorflow:global_step/sec: 287.393\n",
      "INFO:tensorflow:loss = 0.11585, step = 1701 (0.348 sec)\n",
      "INFO:tensorflow:Saving checkpoints for 1719 into /tmp/tmp6rbr5pnq/model.ckpt.\n",
      "INFO:tensorflow:Loss for final step: 0.0799821.\n",
      "INFO:tensorflow:Starting evaluation at 2017-10-05-18:29:12\n",
      "INFO:tensorflow:Restoring parameters from /tmp/tmp6rbr5pnq/model.ckpt-1719\n",
      "INFO:tensorflow:Finished evaluation at 2017-10-05-18:29:12\n",
      "INFO:tensorflow:Saving dict for global step 1719: accuracy = 0.987, global_step = 1719, loss = 0.036051\n",
      "WARNING:tensorflow:Skipping summary for global_step, must be a float or np.float32.\n",
      "Test_model_accuracy: {'accuracy': 0.98699999, 'loss': 0.036051016, 'global_step': 1719}\n",
      "Epoch: 1\n",
      "INFO:tensorflow:Create CheckpointSaverHook.\n",
      "INFO:tensorflow:Restoring parameters from /tmp/tmp6rbr5pnq/model.ckpt-1719\n",
      "INFO:tensorflow:Saving checkpoints for 1720 into /tmp/tmp6rbr5pnq/model.ckpt.\n",
      "INFO:tensorflow:loss = 0.056555, step = 1720\n",
      "INFO:tensorflow:global_step/sec: 308.866\n",
      "INFO:tensorflow:loss = 0.0374668, step = 1820 (0.324 sec)\n",
      "INFO:tensorflow:global_step/sec: 322.618\n",
      "INFO:tensorflow:loss = 0.0595774, step = 1920 (0.310 sec)\n",
      "INFO:tensorflow:global_step/sec: 320.874\n",
      "INFO:tensorflow:loss = 0.0529955, step = 2020 (0.312 sec)\n",
      "INFO:tensorflow:global_step/sec: 325.723\n",
      "INFO:tensorflow:loss = 0.00417351, step = 2120 (0.307 sec)\n",
      "INFO:tensorflow:global_step/sec: 324.77\n",
      "INFO:tensorflow:loss = 0.067279, step = 2220 (0.308 sec)\n",
      "INFO:tensorflow:global_step/sec: 325.383\n",
      "INFO:tensorflow:loss = 0.0262653, step = 2320 (0.307 sec)\n",
      "INFO:tensorflow:global_step/sec: 323.418\n",
      "INFO:tensorflow:loss = 0.00120508, step = 2420 (0.309 sec)\n",
      "INFO:tensorflow:global_step/sec: 321.615\n",
      "INFO:tensorflow:loss = 0.00504687, step = 2520 (0.311 sec)\n",
      "INFO:tensorflow:global_step/sec: 316.806\n",
      "INFO:tensorflow:loss = 0.0188873, step = 2620 (0.316 sec)\n",
      "INFO:tensorflow:global_step/sec: 322.25\n",
      "INFO:tensorflow:loss = 0.0257659, step = 2720 (0.310 sec)\n",
      "INFO:tensorflow:global_step/sec: 326.616\n",
      "INFO:tensorflow:loss = 0.0281801, step = 2820 (0.306 sec)\n",
      "INFO:tensorflow:global_step/sec: 322.058\n",
      "INFO:tensorflow:loss = 0.120051, step = 2920 (0.311 sec)\n",
      "INFO:tensorflow:global_step/sec: 324.536\n",
      "INFO:tensorflow:loss = 0.0451242, step = 3020 (0.308 sec)\n",
      "INFO:tensorflow:global_step/sec: 320.18\n",
      "INFO:tensorflow:loss = 0.0334519, step = 3120 (0.312 sec)\n",
      "INFO:tensorflow:global_step/sec: 326.818\n",
      "INFO:tensorflow:loss = 0.0886852, step = 3220 (0.306 sec)\n",
      "INFO:tensorflow:global_step/sec: 330.249\n",
      "INFO:tensorflow:loss = 0.000768861, step = 3320 (0.303 sec)\n",
      "INFO:tensorflow:global_step/sec: 326.394\n",
      "INFO:tensorflow:loss = 0.0187889, step = 3420 (0.307 sec)\n",
      "INFO:tensorflow:Saving checkpoints for 3438 into /tmp/tmp6rbr5pnq/model.ckpt.\n",
      "INFO:tensorflow:Loss for final step: 0.00334215.\n",
      "INFO:tensorflow:Starting evaluation at 2017-10-05-18:29:18\n",
      "INFO:tensorflow:Restoring parameters from /tmp/tmp6rbr5pnq/model.ckpt-3438\n",
      "INFO:tensorflow:Finished evaluation at 2017-10-05-18:29:19\n",
      "INFO:tensorflow:Saving dict for global step 3438: accuracy = 0.991, global_step = 3438, loss = 0.0287168\n",
      "WARNING:tensorflow:Skipping summary for global_step, must be a float or np.float32.\n",
      "Test_model_accuracy: {'accuracy': 0.991, 'loss': 0.028716827, 'global_step': 3438}\n",
      "Epoch: 2\n",
      "INFO:tensorflow:Create CheckpointSaverHook.\n",
      "INFO:tensorflow:Restoring parameters from /tmp/tmp6rbr5pnq/model.ckpt-3438\n",
      "INFO:tensorflow:Saving checkpoints for 3439 into /tmp/tmp6rbr5pnq/model.ckpt.\n",
      "INFO:tensorflow:loss = 0.0123201, step = 3439\n",
      "INFO:tensorflow:global_step/sec: 314.481\n",
      "INFO:tensorflow:loss = 0.0177262, step = 3539 (0.319 sec)\n",
      "INFO:tensorflow:global_step/sec: 324.593\n",
      "INFO:tensorflow:loss = 0.00256269, step = 3639 (0.308 sec)\n",
      "INFO:tensorflow:global_step/sec: 326.215\n",
      "INFO:tensorflow:loss = 0.231646, step = 3739 (0.307 sec)\n",
      "INFO:tensorflow:global_step/sec: 320.536\n",
      "INFO:tensorflow:loss = 0.000176263, step = 3839 (0.312 sec)\n",
      "INFO:tensorflow:global_step/sec: 323.175\n",
      "INFO:tensorflow:loss = 0.0854551, step = 3939 (0.309 sec)\n",
      "INFO:tensorflow:global_step/sec: 323.901\n",
      "INFO:tensorflow:loss = 0.0284229, step = 4039 (0.309 sec)\n",
      "INFO:tensorflow:global_step/sec: 320.757\n",
      "INFO:tensorflow:loss = 0.0105894, step = 4139 (0.312 sec)\n",
      "INFO:tensorflow:global_step/sec: 323.871\n",
      "INFO:tensorflow:loss = 0.00332401, step = 4239 (0.309 sec)\n",
      "INFO:tensorflow:global_step/sec: 325.326\n",
      "INFO:tensorflow:loss = 0.0104965, step = 4339 (0.307 sec)\n",
      "INFO:tensorflow:global_step/sec: 321.438\n",
      "INFO:tensorflow:loss = 0.00803449, step = 4439 (0.311 sec)\n",
      "INFO:tensorflow:global_step/sec: 318.599\n",
      "INFO:tensorflow:loss = 0.000598406, step = 4539 (0.314 sec)\n",
      "INFO:tensorflow:global_step/sec: 321.69\n",
      "INFO:tensorflow:loss = 0.00879708, step = 4639 (0.311 sec)\n",
      "INFO:tensorflow:global_step/sec: 320.692\n",
      "INFO:tensorflow:loss = 0.0253875, step = 4739 (0.312 sec)\n",
      "INFO:tensorflow:global_step/sec: 320.943\n",
      "INFO:tensorflow:loss = 0.000596273, step = 4839 (0.312 sec)\n",
      "INFO:tensorflow:global_step/sec: 312.023\n",
      "INFO:tensorflow:loss = 0.0165153, step = 4939 (0.320 sec)\n",
      "INFO:tensorflow:global_step/sec: 321.206\n",
      "INFO:tensorflow:loss = 0.0157734, step = 5039 (0.311 sec)\n",
      "INFO:tensorflow:global_step/sec: 322.86\n",
      "INFO:tensorflow:loss = 0.0051631, step = 5139 (0.310 sec)\n",
      "INFO:tensorflow:Saving checkpoints for 5157 into /tmp/tmp6rbr5pnq/model.ckpt.\n",
      "INFO:tensorflow:Loss for final step: 0.0035584.\n",
      "INFO:tensorflow:Starting evaluation at 2017-10-05-18:29:25\n",
      "INFO:tensorflow:Restoring parameters from /tmp/tmp6rbr5pnq/model.ckpt-5157\n",
      "INFO:tensorflow:Finished evaluation at 2017-10-05-18:29:25\n",
      "INFO:tensorflow:Saving dict for global step 5157: accuracy = 0.9893, global_step = 5157, loss = 0.0352284\n",
      "WARNING:tensorflow:Skipping summary for global_step, must be a float or np.float32.\n",
      "Test_model_accuracy: {'accuracy': 0.98930001, 'loss': 0.03522845, 'global_step': 5157}\n",
      "Epoch: 3\n",
      "INFO:tensorflow:Create CheckpointSaverHook.\n",
      "INFO:tensorflow:Restoring parameters from /tmp/tmp6rbr5pnq/model.ckpt-5157\n",
      "INFO:tensorflow:Saving checkpoints for 5158 into /tmp/tmp6rbr5pnq/model.ckpt.\n",
      "INFO:tensorflow:loss = 0.0295564, step = 5158\n",
      "INFO:tensorflow:global_step/sec: 298.643\n",
      "INFO:tensorflow:loss = 0.0031046, step = 5258 (0.336 sec)\n",
      "INFO:tensorflow:global_step/sec: 305.265\n",
      "INFO:tensorflow:loss = 0.0241479, step = 5358 (0.328 sec)\n",
      "INFO:tensorflow:global_step/sec: 315.347\n",
      "INFO:tensorflow:loss = 0.00619762, step = 5458 (0.317 sec)\n",
      "INFO:tensorflow:global_step/sec: 313.894\n",
      "INFO:tensorflow:loss = 0.000733362, step = 5558 (0.319 sec)\n",
      "INFO:tensorflow:global_step/sec: 313.794\n",
      "INFO:tensorflow:loss = 0.0162757, step = 5658 (0.319 sec)\n"
     ]
    },
    {
     "name": "stdout",
     "output_type": "stream",
     "text": [
      "INFO:tensorflow:global_step/sec: 302.357\n",
      "INFO:tensorflow:loss = 0.00146911, step = 5758 (0.331 sec)\n",
      "INFO:tensorflow:global_step/sec: 308.979\n",
      "INFO:tensorflow:loss = 0.00373631, step = 5858 (0.324 sec)\n",
      "INFO:tensorflow:global_step/sec: 316.703\n",
      "INFO:tensorflow:loss = 0.0126342, step = 5958 (0.316 sec)\n",
      "INFO:tensorflow:global_step/sec: 317.131\n",
      "INFO:tensorflow:loss = 5.42686e-05, step = 6058 (0.315 sec)\n",
      "INFO:tensorflow:global_step/sec: 304.165\n",
      "INFO:tensorflow:loss = 0.000604316, step = 6158 (0.329 sec)\n",
      "INFO:tensorflow:global_step/sec: 304.94\n",
      "INFO:tensorflow:loss = 0.00826757, step = 6258 (0.328 sec)\n",
      "INFO:tensorflow:global_step/sec: 306.305\n",
      "INFO:tensorflow:loss = 0.00111393, step = 6358 (0.327 sec)\n",
      "INFO:tensorflow:global_step/sec: 305.644\n",
      "INFO:tensorflow:loss = 0.0184049, step = 6458 (0.327 sec)\n",
      "INFO:tensorflow:global_step/sec: 287.839\n",
      "INFO:tensorflow:loss = 0.0299011, step = 6558 (0.347 sec)\n",
      "INFO:tensorflow:global_step/sec: 285.945\n",
      "INFO:tensorflow:loss = 0.023183, step = 6658 (0.350 sec)\n",
      "INFO:tensorflow:global_step/sec: 299.345\n",
      "INFO:tensorflow:loss = 0.00312481, step = 6758 (0.334 sec)\n",
      "INFO:tensorflow:global_step/sec: 311.028\n",
      "INFO:tensorflow:loss = 0.0374473, step = 6858 (0.321 sec)\n",
      "INFO:tensorflow:Saving checkpoints for 6876 into /tmp/tmp6rbr5pnq/model.ckpt.\n",
      "INFO:tensorflow:Loss for final step: 0.00299699.\n",
      "INFO:tensorflow:Starting evaluation at 2017-10-05-18:29:31\n",
      "INFO:tensorflow:Restoring parameters from /tmp/tmp6rbr5pnq/model.ckpt-6876\n",
      "INFO:tensorflow:Finished evaluation at 2017-10-05-18:29:32\n",
      "INFO:tensorflow:Saving dict for global step 6876: accuracy = 0.991, global_step = 6876, loss = 0.0282951\n",
      "WARNING:tensorflow:Skipping summary for global_step, must be a float or np.float32.\n",
      "Test_model_accuracy: {'accuracy': 0.991, 'loss': 0.028295085, 'global_step': 6876}\n"
     ]
    }
   ],
   "source": [
    "for epoch in range(4):\n",
    "    print(\"Epoch: {}\".format(epoch))\n",
    "    estimator.train(input_fn=train_input_fn, steps=len(mnist_train.images)/32)\n",
    "    test_model_accuracy()"
   ]
  },
  {
   "cell_type": "code",
   "execution_count": 14,
   "metadata": {},
   "outputs": [
    {
     "name": "stdout",
     "output_type": "stream",
     "text": [
      "INFO:tensorflow:Starting evaluation at 2017-10-05-18:29:32\n",
      "INFO:tensorflow:Restoring parameters from /tmp/tmp6rbr5pnq/model.ckpt-6876\n",
      "INFO:tensorflow:Finished evaluation at 2017-10-05-18:29:32\n",
      "INFO:tensorflow:Saving dict for global step 6876: accuracy = 0.991, global_step = 6876, loss = 0.0282951\n",
      "WARNING:tensorflow:Skipping summary for global_step, must be a float or np.float32.\n",
      "Test_model_accuracy: {'accuracy': 0.991, 'loss': 0.028295085, 'global_step': 6876}\n"
     ]
    }
   ],
   "source": [
    "test_model_accuracy()"
   ]
  },
  {
   "cell_type": "code",
   "execution_count": null,
   "metadata": {
    "collapsed": true
   },
   "outputs": [],
   "source": []
  },
  {
   "cell_type": "markdown",
   "metadata": {},
   "source": [
    "There is fancy way to save estimators, load and serve them, but I didn't manage to do that here.\n",
    "\n",
    "https://www.tensorflow.org/programmers_guide/saved_model#using_savedmodel_with_estimators\n"
   ]
  },
  {
   "cell_type": "code",
   "execution_count": null,
   "metadata": {
    "collapsed": true
   },
   "outputs": [],
   "source": []
  },
  {
   "cell_type": "code",
   "execution_count": null,
   "metadata": {
    "collapsed": true
   },
   "outputs": [],
   "source": []
  },
  {
   "cell_type": "code",
   "execution_count": null,
   "metadata": {
    "collapsed": true
   },
   "outputs": [],
   "source": []
  }
 ],
 "metadata": {
  "anaconda-cloud": {},
  "kernelspec": {
   "display_name": "Python [conda env:py3_def]",
   "language": "python",
   "name": "conda-env-py3_def-py"
  },
  "language_info": {
   "codemirror_mode": {
    "name": "ipython",
    "version": 3
   },
   "file_extension": ".py",
   "mimetype": "text/x-python",
   "name": "python",
   "nbconvert_exporter": "python",
   "pygments_lexer": "ipython3",
   "version": "3.6.1"
  }
 },
 "nbformat": 4,
 "nbformat_minor": 2
}
