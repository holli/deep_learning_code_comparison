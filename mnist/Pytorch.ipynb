{
 "cells": [
  {
   "cell_type": "code",
   "execution_count": 1,
   "metadata": {
    "collapsed": true
   },
   "outputs": [],
   "source": [
    "%matplotlib inline\n",
    "import matplotlib.pyplot as plt\n",
    "import numpy as np\n",
    "import random\n",
    "\n",
    "import torch\n",
    "import torch.nn as nn\n",
    "import torch.nn.functional as F\n",
    "import torchvision\n",
    "from torch.autograd import Variable"
   ]
  },
  {
   "cell_type": "code",
   "execution_count": 2,
   "metadata": {},
   "outputs": [
    {
     "data": {
      "text/plain": [
       "'0.1.12_2'"
      ]
     },
     "execution_count": 2,
     "metadata": {},
     "output_type": "execute_result"
    }
   ],
   "source": [
    "torch.__version__"
   ]
  },
  {
   "cell_type": "markdown",
   "metadata": {},
   "source": [
    "# Load Datasets"
   ]
  },
  {
   "cell_type": "code",
   "execution_count": 3,
   "metadata": {},
   "outputs": [
    {
     "name": "stdout",
     "output_type": "stream",
     "text": [
      "train_len 60000, test_len 10000\n"
     ]
    }
   ],
   "source": [
    "mnist_data_path = './data/pytorch_data'\n",
    "transform = torchvision.transforms.ToTensor() # transform PIL image to Tensor\n",
    "mnist_train = torchvision.datasets.MNIST(mnist_data_path, train=True, transform=transform,\n",
    "                                         target_transform=None, download=True)\n",
    "mnist_test  = torchvision.datasets.MNIST(mnist_data_path, train=False, transform=transform,\n",
    "                                         target_transform=None,download=True)\n",
    "print(\"train_len {}, test_len {}\".format(len(mnist_train), len(mnist_test)))"
   ]
  },
  {
   "cell_type": "code",
   "execution_count": 4,
   "metadata": {},
   "outputs": [
    {
     "name": "stdout",
     "output_type": "stream",
     "text": [
      "Sample class: 5\n",
      "Sample size: torch.Size([28, 28])\n"
     ]
    },
    {
     "data": {
      "image/png": "[encoded data removed]",
      "text/plain": [
       "<PIL.Image.Image image mode=L size=28x28 at 0x7FA2485BE278>"
      ]
     },
     "execution_count": 4,
     "metadata": {},
     "output_type": "execute_result"
    }
   ],
   "source": [
    "# See some examples\n",
    "sample = mnist_train[0]\n",
    "print(\"Sample class: {}\".format(sample[1]))\n",
    "print(\"Sample size: {}\".format(sample[0][0].size()))\n",
    "torchvision.transforms.ToPILImage()(sample[0])"
   ]
  },
  {
   "cell_type": "code",
   "execution_count": 5,
   "metadata": {
    "collapsed": true
   },
   "outputs": [],
   "source": [
    "train_loader = torch.utils.data.DataLoader(mnist_train, batch_size=32)\n",
    "test_loader = torch.utils.data.DataLoader(mnist_test, batch_size=32)\n",
    "# loader speedup could be achieved by following parameters\n",
    "# test_loader = torch.utils.data.DataLoader(mnist_test, batch_size=1024,\n",
    "#                                           pin_memory=True, num_workers=4, shuffle=False)"
   ]
  },
  {
   "cell_type": "markdown",
   "metadata": {},
   "source": [
    "# Model definition with sequential nn.Module (easy way)"
   ]
  },
  {
   "cell_type": "code",
   "execution_count": 6,
   "metadata": {
    "collapsed": true
   },
   "outputs": [],
   "source": [
    "class NnModuleSequential(nn.Module):\n",
    "    def __init__(self, img_size):\n",
    "        super(NnModuleSequential,self).__init__()\n",
    "        \n",
    "        self.conv1 = nn.Sequential(\n",
    "                nn.Conv2d(1,32, kernel_size=5),\n",
    "                nn.ReLU(),\n",
    "                nn.BatchNorm2d(32),\n",
    "                nn.Conv2d(32, 64, kernel_size=5),\n",
    "                nn.ReLU(),\n",
    "                nn.BatchNorm2d(64),\n",
    "                nn.MaxPool2d(2,2),\n",
    "        )\n",
    "        \n",
    "        self.fc1 = nn.Linear((img_size-4*2)*(img_size-4*2)*64//4, 1024)\n",
    "        self.fc2 = nn.Linear(1024, 10)\n",
    "\n",
    "    def forward(self, x):\n",
    "        out = self.conv1(x)\n",
    "        out = out.view(x.size(0), -1)\n",
    "        \n",
    "        out = self.fc1(out)\n",
    "        out = self.fc2(out)\n",
    "        return out"
   ]
  },
  {
   "cell_type": "markdown",
   "metadata": {},
   "source": [
    "### Testing that the initial model works"
   ]
  },
  {
   "cell_type": "code",
   "execution_count": 7,
   "metadata": {},
   "outputs": [],
   "source": [
    "model = NnModuleSequential(img_size=28).cuda()"
   ]
  },
  {
   "cell_type": "code",
   "execution_count": 8,
   "metadata": {},
   "outputs": [
    {
     "data": {
      "text/plain": [
       "Variable containing:\n",
       "-0.2653  0.4983  0.8471 -0.2105 -0.1330 -0.0413 -0.3417  0.3848 -0.1016  0.0332\n",
       "[torch.cuda.FloatTensor of size 1x10 (GPU 0)]"
      ]
     },
     "execution_count": 8,
     "metadata": {},
     "output_type": "execute_result"
    }
   ],
   "source": [
    "x = Variable(mnist_train[0][0].unsqueeze(0))\n",
    "x = x.cuda()\n",
    "model(x)"
   ]
  },
  {
   "cell_type": "markdown",
   "metadata": {},
   "source": [
    "### Accuracy testing"
   ]
  },
  {
   "cell_type": "code",
   "execution_count": 9,
   "metadata": {
    "collapsed": true
   },
   "outputs": [],
   "source": [
    "def test_model_accuracy(model, data_loader, use_cuda=False):\n",
    "    model.eval() # Set model in evaluation mode so dropout etc won't affect\n",
    "    test_loss, correct = 0, 0\n",
    "    \n",
    "    for data, target in data_loader:\n",
    "        data, target = Variable(data, volatile=True), Variable(target)\n",
    "        if use_cuda:\n",
    "            data, target = data.cuda(), target.cuda()\n",
    "            \n",
    "        output = model(data)\n",
    "        test_loss += F.cross_entropy(output, target, size_average=False).data[0] # sum up batch loss\n",
    "        pred = output.data.max(1)[1] # get the index of the max log-probability\n",
    "        correct += pred.eq(target.data).cpu().sum()\n",
    "\n",
    "    test_loss /= len(data_loader.dataset)\n",
    "    print('Test set: Average loss: {:.6f}, Accuracy: {}/{} ({:.2f}%)'.format(\n",
    "                test_loss, correct, len(data_loader.dataset),\n",
    "                100. * correct / len(data_loader.dataset)))"
   ]
  },
  {
   "cell_type": "code",
   "execution_count": 10,
   "metadata": {},
   "outputs": [
    {
     "name": "stdout",
     "output_type": "stream",
     "text": [
      "Test set: Average loss: 2.303807, Accuracy: 748/10000 (7.48%)\n"
     ]
    }
   ],
   "source": [
    "# We now have model with random accuracy\n",
    "test_model_accuracy(model, test_loader, use_cuda=True)"
   ]
  },
  {
   "cell_type": "code",
   "execution_count": 11,
   "metadata": {},
   "outputs": [
    {
     "name": "stdout",
     "output_type": "stream",
     "text": [
      "Test set: Average loss: 2.303807, Accuracy: 748/10000 (7.48%)\n",
      "Test set: Average loss: 2.303807, Accuracy: 748/10000 (7.48%)\n",
      "Test set: Average loss: 2.303807, Accuracy: 748/10000 (7.48%)\n",
      "Test set: Average loss: 2.303807, Accuracy: 748/10000 (7.48%)\n",
      "839 ms ± 17 ms per loop (mean ± std. dev. of 3 runs, 1 loop each)\n"
     ]
    }
   ],
   "source": [
    "%%timeit -r 3\n",
    "test_model_accuracy(model, test_loader, use_cuda=True)"
   ]
  },
  {
   "cell_type": "markdown",
   "metadata": {},
   "source": [
    "### Training the model"
   ]
  },
  {
   "cell_type": "code",
   "execution_count": 12,
   "metadata": {
    "collapsed": true
   },
   "outputs": [],
   "source": [
    "def train_epoch(model, data_loader, optimizer, log_interval_percentage=.35, use_cuda=False):\n",
    "    model.train()\n",
    "    train_loss = []\n",
    "    log_interval = int((len(train_loader.dataset)/train_loader.batch_size) * log_interval_percentage)\n",
    "    \n",
    "    for batch_idx, (data, target) in enumerate(train_loader):\n",
    "        data = Variable(data)\n",
    "        target = Variable(target)\n",
    "        if use_cuda:\n",
    "            data, target = data.cuda(), target.cuda()\n",
    "\n",
    "        predict = model(data)\n",
    "        loss = F.cross_entropy(predict, target)\n",
    "        train_loss.append(loss.data[0])\n",
    "\n",
    "        optimizer.zero_grad()\n",
    "        loss.backward()\n",
    "        optimizer.step()\n",
    "\n",
    "        if (batch_idx % log_interval == 0) and (batch_idx > 0):\n",
    "            print('Epoch: {} [{}/{} ({:.0f}%)]\\tLoss: {:.6f}'.format(\n",
    "                        epoch, batch_idx * len(data), len(train_loader.dataset),\n",
    "                        100. * batch_idx / len(train_loader), np.mean(train_loss)))\n",
    "    print((\"Epoch: {}, Loss: {:.6f}\").format(epoch , np.mean(train_loss)))"
   ]
  },
  {
   "cell_type": "code",
   "execution_count": 13,
   "metadata": {
    "collapsed": true
   },
   "outputs": [],
   "source": [
    "total_epochs = 0"
   ]
  },
  {
   "cell_type": "code",
   "execution_count": 14,
   "metadata": {},
   "outputs": [
    {
     "name": "stdout",
     "output_type": "stream",
     "text": [
      "Epoch: 0 [20992/60000 (35%)]\tLoss: 0.380523\n",
      "Epoch: 0 [41984/60000 (70%)]\tLoss: 0.292143\n",
      "Epoch: 0, Loss: 0.257314\n",
      "Test set: Average loss: 0.193515, Accuracy: 9622/10000 (96.22%)\n",
      "Epoch: 1 [20992/60000 (35%)]\tLoss: 0.104836\n",
      "Epoch: 1 [41984/60000 (70%)]\tLoss: 0.097014\n",
      "Epoch: 1, Loss: 0.092383\n",
      "Test set: Average loss: 0.113898, Accuracy: 9722/10000 (97.22%)\n",
      "Epoch: 2 [20992/60000 (35%)]\tLoss: 0.054125\n",
      "Epoch: 2 [41984/60000 (70%)]\tLoss: 0.057371\n",
      "Epoch: 2, Loss: 0.054409\n",
      "Test set: Average loss: 0.057635, Accuracy: 9849/10000 (98.49%)\n",
      "Epoch: 3 [20992/60000 (35%)]\tLoss: 0.052725\n",
      "Epoch: 3 [41984/60000 (70%)]\tLoss: 0.048415\n",
      "Epoch: 3, Loss: 0.046256\n",
      "Test set: Average loss: 0.063283, Accuracy: 9837/10000 (98.37%)\n",
      "Epoch: 4 [20992/60000 (35%)]\tLoss: 0.030338\n",
      "Epoch: 4 [41984/60000 (70%)]\tLoss: 0.032884\n",
      "Epoch: 4, Loss: 0.032046\n",
      "Test set: Average loss: 0.054931, Accuracy: 9856/10000 (98.56%)\n",
      "Epoch: 5 [20992/60000 (35%)]\tLoss: 0.020591\n",
      "Epoch: 5 [41984/60000 (70%)]\tLoss: 0.024754\n",
      "Epoch: 5, Loss: 0.026569\n",
      "Test set: Average loss: 0.060193, Accuracy: 9862/10000 (98.62%)\n",
      "\n",
      "CPU times: user 46.5 s, sys: 2.09 s, total: 48.5 s\n",
      "Wall time: 48.7 s\n"
     ]
    }
   ],
   "source": [
    "%%time\n",
    "optimizer = torch.optim.Adam(model.parameters(), lr=0.001)\n",
    "for epoch in range(6):\n",
    "    total_epochs += 1\n",
    "    train_epoch(model, train_loader, optimizer, use_cuda=True)\n",
    "    test_model_accuracy(model, test_loader, use_cuda=True)\n",
    "print()"
   ]
  },
  {
   "cell_type": "markdown",
   "metadata": {},
   "source": [
    "# Save & Load & Predict"
   ]
  },
  {
   "cell_type": "markdown",
   "metadata": {
    "collapsed": true
   },
   "source": [
    "### Saving"
   ]
  },
  {
   "cell_type": "code",
   "execution_count": 15,
   "metadata": {
    "collapsed": true
   },
   "outputs": [],
   "source": [
    "model_dir = './data/pytorch_model'\n",
    "import os\n",
    "if not os.path.exists(model_dir):\n",
    "    os.makedirs(model_dir)"
   ]
  },
  {
   "cell_type": "code",
   "execution_count": 16,
   "metadata": {},
   "outputs": [
    {
     "data": {
      "text/plain": [
       "'./data/pytorch_model/full_model_6'"
      ]
     },
     "execution_count": 16,
     "metadata": {},
     "output_type": "execute_result"
    }
   ],
   "source": [
    "saved_model_path = model_dir + '/full_model_' + str(total_epochs)\n",
    "saved_model_path"
   ]
  },
  {
   "cell_type": "code",
   "execution_count": 17,
   "metadata": {
    "collapsed": true
   },
   "outputs": [],
   "source": [
    "torch.save(model.state_dict(), saved_model_path)"
   ]
  },
  {
   "cell_type": "markdown",
   "metadata": {
    "collapsed": true
   },
   "source": [
    "### Loading"
   ]
  },
  {
   "cell_type": "code",
   "execution_count": 18,
   "metadata": {
    "collapsed": true
   },
   "outputs": [],
   "source": [
    "loaded_model = NnModuleSequential(img_size=28)\n",
    "loaded_model.load_state_dict(torch.load(saved_model_path))\n",
    "loaded_model = loaded_model.cuda()"
   ]
  },
  {
   "cell_type": "markdown",
   "metadata": {},
   "source": [
    "### Predicting"
   ]
  },
  {
   "cell_type": "code",
   "execution_count": 22,
   "metadata": {},
   "outputs": [
    {
     "name": "stdout",
     "output_type": "stream",
     "text": [
      "Predicted class: 3\n"
     ]
    },
    {
     "data": {
      "image/png": "[encoded data removed]",
      "text/plain": [
       "<PIL.Image.Image image mode=L size=28x28 at 0x7FA244E66FD0>"
      ]
     },
     "execution_count": 22,
     "metadata": {},
     "output_type": "execute_result"
    }
   ],
   "source": [
    "sample_idx = int(random.random()*100)\n",
    "sample = mnist_test[sample_idx][0]\n",
    "x = Variable(sample.unsqueeze(0))\n",
    "x = x.cuda()\n",
    "\n",
    "result = loaded_model(x)\n",
    "print(\"Predicted class: {}\".format(np.argmax(result.data.cpu().numpy()[0])))\n",
    "torchvision.transforms.ToPILImage()(sample)"
   ]
  },
  {
   "cell_type": "code",
   "execution_count": null,
   "metadata": {
    "collapsed": true
   },
   "outputs": [],
   "source": []
  },
  {
   "cell_type": "code",
   "execution_count": null,
   "metadata": {
    "collapsed": true
   },
   "outputs": [],
   "source": []
  }
 ],
 "metadata": {
  "anaconda-cloud": {},
  "kernelspec": {
   "display_name": "Python [conda env:py3_def]",
   "language": "python",
   "name": "conda-env-py3_def-py"
  },
  "language_info": {
   "codemirror_mode": {
    "name": "ipython",
    "version": 3
   },
   "file_extension": ".py",
   "mimetype": "text/x-python",
   "name": "python",
   "nbconvert_exporter": "python",
   "pygments_lexer": "ipython3",
   "version": "3.6.1"
  }
 },
 "nbformat": 4,
 "nbformat_minor": 2
}
