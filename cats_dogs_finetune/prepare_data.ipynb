{
 "cells": [
  {
   "cell_type": "markdown",
   "metadata": {},
   "source": [
    "https://www.kaggle.com/c/dogs-vs-cats"
   ]
  },
  {
   "cell_type": "code",
   "execution_count": null,
   "metadata": {
    "collapsed": true
   },
   "outputs": [],
   "source": []
  },
  {
   "cell_type": "code",
   "execution_count": 22,
   "metadata": {
    "collapsed": true
   },
   "outputs": [],
   "source": [
    "import glob\n",
    "import numpy as np\n",
    "import shutil\n",
    "import os"
   ]
  },
  {
   "cell_type": "markdown",
   "metadata": {},
   "source": [
    "# Creating data directory structure"
   ]
  },
  {
   "cell_type": "markdown",
   "metadata": {},
   "source": [
    "We will have 10k images in training, and 2.5k in both test and val directories.\n",
    "\n",
    "Files structure: data/train/dogs/001.jpg, data/val/cats/abc.jpg ..."
   ]
  },
  {
   "cell_type": "code",
   "execution_count": 48,
   "metadata": {},
   "outputs": [
    {
     "name": "stdout",
     "output_type": "stream",
     "text": [
      "/home/ohu/koodi/kesken/deep_learning_code_comparison/cats_dogs_finetune\n",
      "/home/ohu/koodi/kesken/deep_learning_code_comparison/cats_dogs_finetune/data\n",
      "mkdir: cannot create directory ‘val’: File exists\n",
      "mkdir: cannot create directory ‘test’: File exists\n"
     ]
    }
   ],
   "source": [
    "%cd -0\n",
    "%cd data\n",
    "%mkdir val\n",
    "%mkdir test"
   ]
  },
  {
   "cell_type": "code",
   "execution_count": 10,
   "metadata": {},
   "outputs": [
    {
     "name": "stdout",
     "output_type": "stream",
     "text": [
      "/home/ohu/koodi/kesken/deep_learning_code_comparison/cats_dogs_finetune\n",
      "/home/ohu/koodi/kesken/deep_learning_code_comparison/cats_dogs_finetune/data/train\n"
     ]
    }
   ],
   "source": [
    "%cd -0\n",
    "%cd data/train\n",
    "g = glob.glob('*.jpg')\n",
    "shuf = np.random.permutation(g)"
   ]
  },
  {
   "cell_type": "code",
   "execution_count": 44,
   "metadata": {},
   "outputs": [
    {
     "data": {
      "text/plain": [
       "array(['dog.8758.jpg', 'dog.8344.jpg', 'cat.7288.jpg', 'dog.2280.jpg',\n",
       "       'cat.11085.jpg'], \n",
       "      dtype='<U13')"
      ]
     },
     "execution_count": 44,
     "metadata": {},
     "output_type": "execute_result"
    }
   ],
   "source": [
    "shuf[0:5]"
   ]
  },
  {
   "cell_type": "code",
   "execution_count": 29,
   "metadata": {
    "collapsed": true
   },
   "outputs": [],
   "source": [
    "# Lets have only 10000 total files (there is 25k originally)\n",
    "for f in shuf[0:-10000]:\n",
    "    os.remove(f)"
   ]
  },
  {
   "cell_type": "code",
   "execution_count": 30,
   "metadata": {
    "collapsed": true
   },
   "outputs": [],
   "source": [
    "g = glob.glob('*.jpg')\n",
    "shuf = np.random.permutation(g)"
   ]
  },
  {
   "cell_type": "code",
   "execution_count": 35,
   "metadata": {},
   "outputs": [
    {
     "name": "stdout",
     "output_type": "stream",
     "text": [
      "Total files: 10000, Validation: 2500, Test: 2500\n"
     ]
    }
   ],
   "source": [
    "total_files_count = len(g)\n",
    "test_files_count = int(total_files_count * 0.25)\n",
    "validation_files_count = test_files_count\n",
    "print(\"Total files: {}, Validation: {}, Test: {}\".format(\n",
    "                        total_files_count, validation_files_count, test_files_count ))"
   ]
  },
  {
   "cell_type": "code",
   "execution_count": 42,
   "metadata": {},
   "outputs": [
    {
     "name": "stdout",
     "output_type": "stream",
     "text": [
      "/home/ohu/koodi/kesken/deep_learning_code_comparison/cats_dogs_finetune\n",
      "/home/ohu/koodi/kesken/deep_learning_code_comparison/cats_dogs_finetune/data\n"
     ]
    }
   ],
   "source": [
    "%cd -0\n",
    "%cd data\n",
    "for f in shuf[0:validation_files_count]:\n",
    "    os.rename('train/' + f, 'val/' + f)\n",
    "for f in shuf[validation_files_count:validation_files_count+test_files_count]:\n",
    "    os.rename('train/' + f, 'test/' + f)"
   ]
  },
  {
   "cell_type": "code",
   "execution_count": 54,
   "metadata": {},
   "outputs": [
    {
     "name": "stdout",
     "output_type": "stream",
     "text": [
      "/home/ohu/koodi/kesken/deep_learning_code_comparison/cats_dogs_finetune\n",
      "/home/ohu/koodi/kesken/deep_learning_code_comparison/cats_dogs_finetune/data\n"
     ]
    }
   ],
   "source": [
    "%cd -0\n",
    "%cd data\n",
    "classes = ['dogs', 'cats']\n",
    "import pathlib\n",
    "for folder in ['train', 'val', 'test']:\n",
    "    for c in classes:\n",
    "        pathlib.Path(folder + '/' + c).mkdir(exist_ok=True) \n",
    "    \n",
    "    files = glob.glob(folder + '/' + '*.jpg')\n",
    "    for f in files:\n",
    "        f_new = f.replace('dog.', 'dogs/dog.').replace('cat.', 'cats/cat.')\n",
    "        os.rename(f, f_new)"
   ]
  },
  {
   "cell_type": "markdown",
   "metadata": {},
   "source": [
    "# File structure"
   ]
  },
  {
   "cell_type": "code",
   "execution_count": 57,
   "metadata": {},
   "outputs": [
    {
     "name": "stdout",
     "output_type": "stream",
     "text": [
      "/home/ohu/koodi/kesken/deep_learning_code_comparison/cats_dogs_finetune\n",
      "/: 0\n",
      "test/: 0\n",
      "    cats/: 1242\n",
      "    dogs/: 1258\n",
      "train/: 0\n",
      "    cats/: 2507\n",
      "    dogs/: 2493\n",
      "train_org/: 25000\n",
      "val/: 0\n",
      "    cats/: 1245\n",
      "    dogs/: 1255\n"
     ]
    }
   ],
   "source": [
    "%cd -0\n",
    "startpath = 'data/'\n",
    "for root, dirs, files in sorted(os.walk(startpath)):\n",
    "    level = root.replace(startpath, '').count(os.sep)\n",
    "    indent = ' ' * 4 * (level)\n",
    "    print('{}{}/: {}'.format(indent, os.path.basename(root), len(files)))\n"
   ]
  },
  {
   "cell_type": "code",
   "execution_count": null,
   "metadata": {
    "collapsed": true
   },
   "outputs": [],
   "source": []
  },
  {
   "cell_type": "code",
   "execution_count": null,
   "metadata": {
    "collapsed": true
   },
   "outputs": [],
   "source": []
  },
  {
   "cell_type": "code",
   "execution_count": null,
   "metadata": {
    "collapsed": true
   },
   "outputs": [],
   "source": []
  }
 ],
 "metadata": {
  "anaconda-cloud": {},
  "kernelspec": {
   "display_name": "Python [conda env:py3_def]",
   "language": "python",
   "name": "conda-env-py3_def-py"
  },
  "language_info": {
   "codemirror_mode": {
    "name": "ipython",
    "version": 3
   },
   "file_extension": ".py",
   "mimetype": "text/x-python",
   "name": "python",
   "nbconvert_exporter": "python",
   "pygments_lexer": "ipython3",
   "version": "3.6.1"
  }
 },
 "nbformat": 4,
 "nbformat_minor": 2
}
